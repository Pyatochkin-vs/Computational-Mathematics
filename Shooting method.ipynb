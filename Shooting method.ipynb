{
 "cells": [
  {
   "cell_type": "markdown",
   "metadata": {},
   "source": [
    "# Задча XI 9.3(б)\n",
    "$$\n",
    "\\begin{cases}\n",
    " y'' - x \\sqrt y = 0,  &  0 ≤ x ≤ 1\\\\ \n",
    " y(0) = 0 \\\\\n",
    " \\int^1_0 y(x) dx = 1\n",
    "\\end{cases}\n",
    "$$\n",
    "Пусть y'(0) = 1,9(сначала взял 0,5, очень долго выполнялся код, поменял на 1,9 для быстроты выполнения) и y' = a, тогда a(0) = 1,9. Система примет следующий вид:\n",
    "$$\n",
    "\\begin{cases}\n",
    " y' = a \\\\\n",
    " a' = x \\sqrt y,& 0 ≤ x ≤ 1\\\\\n",
    " y(0) = 0, a(0) = 1\n",
    "\\end{cases}\n",
    "$$"
   ]
  },
  {
   "cell_type": "code",
   "execution_count": 1,
   "metadata": {},
   "outputs": [],
   "source": [
    "import numpy as np\n",
    "from matplotlib import pyplot as plt\n",
    "\n",
    "def f(x, vec):\n",
    "    y = vec[0]\n",
    "    a = vec[1]\n",
    "    return np.array([a, x * np.sqrt(y)])\n",
    "\n",
    "def RK_4(x, start_vector, h, number_move):                      # Метод Рунге-Кутта 4-го порядка\n",
    "    y = np.zeros((number_move, np.shape(start_vector)[0]))\n",
    "    y[0] = start_vector\n",
    "    sum_integral = 0   \n",
    "    \n",
    "    for i in range(0, number_move - 1):\n",
    "        k_1 = f(x[i], y[i])\n",
    "        k_2 = f(x[i] + h / 2, y[i] + k_1 * h / 2)\n",
    "        k_3 = f(x[i] + h / 2, y[i] + k_2 * h / 2)\n",
    "        k_4 = f(x[i] + h, y[i] + k_3 * h)\n",
    "\n",
    "        y[i + 1] = y[i] + h  * (k_1 + 2 * k_2 + 2 * k_3 + k_4) / 6\n",
    "    \n",
    "        if (i != 0):\n",
    "            sum_integral += (y[i][0] + y[i - 1][0]) / 2 * h\n",
    "        \n",
    "    return sum_integral, y   \n",
    "\n",
    "def draw_RK(result, x):\n",
    "    plt.figure(figsize = (6, 6))\n",
    "    y, a = result.T\n",
    "\n",
    "    plt.plot(x, y, color='blue',  linewidth=2)\n",
    "    plt.ticklabel_format(style='plain')\n",
    "\n",
    "    plt.minorticks_on()\n",
    "    plt.grid(which='major', color='black', linestyle='-')\n",
    "    plt.grid(which='minor', color='0.65', linestyle='--', linewidth=0.1)\n",
    "\n",
    "    plt.xlabel(r'$x$', fontsize=20)\n",
    "    plt.ylabel(r'$y$', fontsize=20)\n",
    "    \n",
    "    \n",
    "    plt.show()"
   ]
  },
  {
   "cell_type": "code",
   "execution_count": 2,
   "metadata": {},
   "outputs": [
    {
     "name": "stdout",
     "output_type": "stream",
     "text": [
      "Значение интеграла: 0.9999886279752808\n",
      "Значение альфа: 1.9339999999999962\n"
     ]
    },
    {
     "data": {
      "image/png": "[encoded data removed]",
      "text/plain": [
       "<Figure size 432x432 with 1 Axes>"
      ]
     },
     "metadata": {
      "needs_background": "light"
     },
     "output_type": "display_data"
    }
   ],
   "source": [
    "x_0_integ = 0\n",
    "x_1_integ = 1\n",
    "h = 1e-3\n",
    "    \n",
    "number_move = int((x_1_integ - x_0_integ) / h) + 1\n",
    "x = np.linspace(x_0_integ, x_1_integ, number_move)\n",
    " \n",
    "integral = 0\n",
    "y = np.empty((0), float)\n",
    "epsilon = 1e-4\n",
    "x_0 = 0\n",
    "y_0 = 0\n",
    "a_0 = 1.9\n",
    "\n",
    "while(True):\n",
    "    start_vector = np.array([y_0, a_0])\n",
    "    integral, y = RK_4(x, start_vector, h, number_move)\n",
    "    a_0 += 10 * epsilon\n",
    "    if(abs(integral - 1.0) < epsilon):\n",
    "        print('Значение интеграла:', integral)\n",
    "        break\n",
    "    \n",
    "print('Значение альфа:', a_0)\n",
    "draw_RK(y, x)"
   ]
  },
  {
   "cell_type": "markdown",
   "metadata": {},
   "source": [
    "Рисунок: решение системы при условии F(x,y',y\") = 0. Кажется, что график имеет линейную зависимость, однако это не так.\n"
   ]
  },
  {
   "cell_type": "markdown",
   "metadata": {},
   "source": [
    "# Вывод\n",
    "В работе был реализован метод стрельбы для решения дифференциального уравнения. Решение имеет достаточно точный вид."
   ]
  },
  {
   "cell_type": "code",
   "execution_count": null,
   "metadata": {},
   "outputs": [],
   "source": []
  }
 ],
 "metadata": {
  "interpreter": {
   "hash": "916dbcbb3f70747c44a77c7bcd40155683ae19c65e1c03b4aa3499c5328201f1"
  },
  "kernelspec": {
   "display_name": "Python 3 (ipykernel)",
   "language": "python",
   "name": "python3"
  },
  "language_info": {
   "codemirror_mode": {
    "name": "ipython",
    "version": 3
   },
   "file_extension": ".py",
   "mimetype": "text/x-python",
   "name": "python",
   "nbconvert_exporter": "python",
   "pygments_lexer": "ipython3",
   "version": "3.9.12"
  }
 },
 "nbformat": 4,
 "nbformat_minor": 2
}
